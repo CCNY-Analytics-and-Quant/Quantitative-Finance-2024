{
 "cells": [
  {
   "cell_type": "markdown",
   "metadata": {},
   "source": [
    "Primary Objective: Use Berry Cox’s price momentum factors to select basket of assets for a long-short \n",
    "portfolio. Backtest your algorithm with 5 years of historical data to check for performance of algorithm. \n",
    "\n",
    "\n",
    "# Draft :/"
   ]
  },
  {
   "cell_type": "code",
   "execution_count": null,
   "metadata": {},
   "outputs": [],
   "source": [
    "import pandas as pd\n",
    "import yfinance as yf\n",
    "import seaborn as sn\n",
    "import numpy as np\n",
    "import datetime as dt"
   ]
  },
  {
   "cell_type": "code",
   "execution_count": 12,
   "metadata": {},
   "outputs": [],
   "source": [
    "# Step 1: Select The EFT I am going to use \n",
    "# I am going to be using Microsoft because it's pretty simble\n",
    "\n",
    "ticker = 'MSFT'\n"
   ]
  },
  {
   "cell_type": "code",
   "execution_count": 35,
   "metadata": {},
   "outputs": [
    {
     "name": "stderr",
     "output_type": "stream",
     "text": [
      "[*********************100%***********************]  1 of 1 completed\n",
      "[*********************100%***********************]  1 of 1 completed\n"
     ]
    }
   ],
   "source": [
    "# Step 2: Retrieve historical data for your chosen ETF\n",
    "\n",
    "\n",
    "msft = yf.Ticker(ticker)\n",
    "\n",
    "msft_data = msft.history(period='5y')['Close']\n",
    "\n",
    "start_date = '2019-01-01' \n",
    "\n",
    "end_date = '2024-01-01'\n",
    "\n",
    "msft_data = yf.download(ticker)\n",
    "\n",
    "msft_etf = yf.download('iVV', period='5y')['Adj Close']"
   ]
  },
  {
   "cell_type": "markdown",
   "metadata": {},
   "source": [
    "# Step 3: Calculate the price momentum factors for each asset in your ETF\n",
    "\n",
    "Price Momentum = (CP - CPn) / CPn\n",
    "\n",
    "CP = Closing price in the current period\n",
    "\n",
    "CPn = Closing price N periods ago\n",
    "\n",
    "\n",
    "# Source: https://github.com/CCNY-Analytics-and-Quant/Berry_Cox_Final_Project_Justin_Defne/blob/main/berry_cox_final_justin_defne.ipynb\n"
   ]
  },
  {
   "cell_type": "code",
   "execution_count": 74,
   "metadata": {},
   "outputs": [],
   "source": [
    "# Step 4: Using the price momentum factors, calculate the monthly z-factor score for each asset\n",
    "\n",
    "def calculate_z_scores(momentum_factors):\n",
    "    def calculate_momentum(data, window=12): return data.pct_change(window).fillna(0)\n",
    "    return data.pct_change(window).fillna(0)\n",
    "    \n",
    "\n",
    "\n"
   ]
  }
 ],
 "metadata": {
  "kernelspec": {
   "display_name": "pandas_kernel",
   "language": "python",
   "name": "pandas_kernel"
  },
  "language_info": {
   "codemirror_mode": {
    "name": "ipython",
    "version": 3
   },
   "file_extension": ".py",
   "mimetype": "text/x-python",
   "name": "python",
   "nbconvert_exporter": "python",
   "pygments_lexer": "ipython3",
   "version": "3.11.9"
  }
 },
 "nbformat": 4,
 "nbformat_minor": 2
}
